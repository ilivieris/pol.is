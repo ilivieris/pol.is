{
 "cells": [
  {
   "cell_type": "code",
   "execution_count": 1,
   "metadata": {
    "scrolled": false
   },
   "outputs": [
    {
     "data": {
      "text/plain": [
       "<Figure size 36000x36000 with 0 Axes>"
      ]
     },
     "metadata": {},
     "output_type": "display_data"
    }
   ],
   "source": [
    "%load_ext autoreload\n",
    "%matplotlib inline\n",
    "\n",
    "import warnings\n",
    "warnings.filterwarnings(\"ignore\")\n",
    "\n",
    "import pandas as pd\n",
    "import numpy as np\n",
    "import seaborn as sns\n",
    "import matplotlib.pyplot as plt\n",
    "from utils.utils import select_rows, polis_umap, polis_pca\n",
    "from utils.clustering import plot_embedding_with_clusters, polis_kmeans_\n",
    "\n",
    "# Visualization parameters\n",
    "plt.figure(figsize=(500, 500));\n",
    "sns.set_context('poster');\n",
    "sns.set_style('white');\n",
    "sns.set(font_scale=.7);\n",
    "sns.set_color_codes();\n",
    "np.seterr(divide='ignore', invalid='ignore');"
   ]
  },
  {
   "attachments": {},
   "cell_type": "markdown",
   "metadata": {},
   "source": [
    "# Import data"
   ]
  },
  {
   "cell_type": "code",
   "execution_count": 2,
   "metadata": {
    "scrolled": true
   },
   "outputs": [
    {
     "data": {
      "text/html": [
       "<div>\n",
       "<style scoped>\n",
       "    .dataframe tbody tr th:only-of-type {\n",
       "        vertical-align: middle;\n",
       "    }\n",
       "\n",
       "    .dataframe tbody tr th {\n",
       "        vertical-align: top;\n",
       "    }\n",
       "\n",
       "    .dataframe thead th {\n",
       "        text-align: right;\n",
       "    }\n",
       "</style>\n",
       "<table border=\"1\" class=\"dataframe\">\n",
       "  <thead>\n",
       "    <tr style=\"text-align: right;\">\n",
       "      <th></th>\n",
       "      <th>group-id</th>\n",
       "      <th>n-comments</th>\n",
       "      <th>n-votes</th>\n",
       "      <th>n-agree</th>\n",
       "      <th>n-disagree</th>\n",
       "      <th>0</th>\n",
       "      <th>1</th>\n",
       "      <th>2</th>\n",
       "      <th>3</th>\n",
       "      <th>4</th>\n",
       "      <th>...</th>\n",
       "      <th>886</th>\n",
       "      <th>887</th>\n",
       "      <th>888</th>\n",
       "      <th>889</th>\n",
       "      <th>890</th>\n",
       "      <th>891</th>\n",
       "      <th>892</th>\n",
       "      <th>893</th>\n",
       "      <th>894</th>\n",
       "      <th>895</th>\n",
       "    </tr>\n",
       "    <tr>\n",
       "      <th>participant</th>\n",
       "      <th></th>\n",
       "      <th></th>\n",
       "      <th></th>\n",
       "      <th></th>\n",
       "      <th></th>\n",
       "      <th></th>\n",
       "      <th></th>\n",
       "      <th></th>\n",
       "      <th></th>\n",
       "      <th></th>\n",
       "      <th></th>\n",
       "      <th></th>\n",
       "      <th></th>\n",
       "      <th></th>\n",
       "      <th></th>\n",
       "      <th></th>\n",
       "      <th></th>\n",
       "      <th></th>\n",
       "      <th></th>\n",
       "      <th></th>\n",
       "      <th></th>\n",
       "    </tr>\n",
       "  </thead>\n",
       "  <tbody>\n",
       "    <tr>\n",
       "      <th>0</th>\n",
       "      <td>0.0</td>\n",
       "      <td>92</td>\n",
       "      <td>610</td>\n",
       "      <td>397</td>\n",
       "      <td>100</td>\n",
       "      <td>-1.0</td>\n",
       "      <td>-1.0</td>\n",
       "      <td>1.0</td>\n",
       "      <td>1.0</td>\n",
       "      <td>1.0</td>\n",
       "      <td>...</td>\n",
       "      <td>NaN</td>\n",
       "      <td>NaN</td>\n",
       "      <td>1.0</td>\n",
       "      <td>NaN</td>\n",
       "      <td>1.0</td>\n",
       "      <td>1.0</td>\n",
       "      <td>NaN</td>\n",
       "      <td>1.0</td>\n",
       "      <td>1.0</td>\n",
       "      <td>1.0</td>\n",
       "    </tr>\n",
       "    <tr>\n",
       "      <th>2</th>\n",
       "      <td>0.0</td>\n",
       "      <td>0</td>\n",
       "      <td>29</td>\n",
       "      <td>23</td>\n",
       "      <td>6</td>\n",
       "      <td>-1.0</td>\n",
       "      <td>1.0</td>\n",
       "      <td>1.0</td>\n",
       "      <td>-1.0</td>\n",
       "      <td>1.0</td>\n",
       "      <td>...</td>\n",
       "      <td>NaN</td>\n",
       "      <td>NaN</td>\n",
       "      <td>NaN</td>\n",
       "      <td>NaN</td>\n",
       "      <td>NaN</td>\n",
       "      <td>NaN</td>\n",
       "      <td>NaN</td>\n",
       "      <td>NaN</td>\n",
       "      <td>NaN</td>\n",
       "      <td>NaN</td>\n",
       "    </tr>\n",
       "    <tr>\n",
       "      <th>3</th>\n",
       "      <td>0.0</td>\n",
       "      <td>0</td>\n",
       "      <td>29</td>\n",
       "      <td>20</td>\n",
       "      <td>6</td>\n",
       "      <td>-1.0</td>\n",
       "      <td>1.0</td>\n",
       "      <td>1.0</td>\n",
       "      <td>-1.0</td>\n",
       "      <td>-1.0</td>\n",
       "      <td>...</td>\n",
       "      <td>NaN</td>\n",
       "      <td>NaN</td>\n",
       "      <td>NaN</td>\n",
       "      <td>NaN</td>\n",
       "      <td>NaN</td>\n",
       "      <td>NaN</td>\n",
       "      <td>NaN</td>\n",
       "      <td>NaN</td>\n",
       "      <td>NaN</td>\n",
       "      <td>NaN</td>\n",
       "    </tr>\n",
       "  </tbody>\n",
       "</table>\n",
       "<p>3 rows × 901 columns</p>\n",
       "</div>"
      ],
      "text/plain": [
       "             group-id  n-comments  n-votes  n-agree  n-disagree    0    1  \\\n",
       "participant                                                                 \n",
       "0                 0.0          92      610      397         100 -1.0 -1.0   \n",
       "2                 0.0           0       29       23           6 -1.0  1.0   \n",
       "3                 0.0           0       29       20           6 -1.0  1.0   \n",
       "\n",
       "               2    3    4  ...  886  887  888  889  890  891  892  893  894  \\\n",
       "participant                 ...                                                \n",
       "0            1.0  1.0  1.0  ...  NaN  NaN  1.0  NaN  1.0  1.0  NaN  1.0  1.0   \n",
       "2            1.0 -1.0  1.0  ...  NaN  NaN  NaN  NaN  NaN  NaN  NaN  NaN  NaN   \n",
       "3            1.0 -1.0 -1.0  ...  NaN  NaN  NaN  NaN  NaN  NaN  NaN  NaN  NaN   \n",
       "\n",
       "             895  \n",
       "participant       \n",
       "0            1.0  \n",
       "2            NaN  \n",
       "3            NaN  \n",
       "\n",
       "[3 rows x 901 columns]"
      ]
     },
     "execution_count": 2,
     "metadata": {},
     "output_type": "execute_result"
    }
   ],
   "source": [
    "# Import participants votes\n",
    "df = pd.read_csv('Data/american-assembly.bowling-green/participants-votes.csv',index_col='participant')\n",
    "df.head(3)"
   ]
  },
  {
   "cell_type": "code",
   "execution_count": 3,
   "metadata": {
    "scrolled": true
   },
   "outputs": [
    {
     "data": {
      "text/html": [
       "<div>\n",
       "<style scoped>\n",
       "    .dataframe tbody tr th:only-of-type {\n",
       "        vertical-align: middle;\n",
       "    }\n",
       "\n",
       "    .dataframe tbody tr th {\n",
       "        vertical-align: top;\n",
       "    }\n",
       "\n",
       "    .dataframe thead th {\n",
       "        text-align: right;\n",
       "    }\n",
       "</style>\n",
       "<table border=\"1\" class=\"dataframe\">\n",
       "  <thead>\n",
       "    <tr style=\"text-align: right;\">\n",
       "      <th></th>\n",
       "      <th>timestamp</th>\n",
       "      <th>datetime</th>\n",
       "      <th>author-id</th>\n",
       "      <th>agrees</th>\n",
       "      <th>disagrees</th>\n",
       "      <th>moderated</th>\n",
       "      <th>comment-body</th>\n",
       "    </tr>\n",
       "    <tr>\n",
       "      <th>comment-id</th>\n",
       "      <th></th>\n",
       "      <th></th>\n",
       "      <th></th>\n",
       "      <th></th>\n",
       "      <th></th>\n",
       "      <th></th>\n",
       "      <th></th>\n",
       "    </tr>\n",
       "  </thead>\n",
       "  <tbody>\n",
       "    <tr>\n",
       "      <th>895</th>\n",
       "      <td>1518501496471</td>\n",
       "      <td>Tue Feb 13 12:58:16 WIB 2018</td>\n",
       "      <td>1756</td>\n",
       "      <td>48</td>\n",
       "      <td>8</td>\n",
       "      <td>1</td>\n",
       "      <td>Smallhouse Rd (at Campbell Ln) heading into to...</td>\n",
       "    </tr>\n",
       "    <tr>\n",
       "      <th>894</th>\n",
       "      <td>1518499107516</td>\n",
       "      <td>Tue Feb 13 12:18:27 WIB 2018</td>\n",
       "      <td>1480</td>\n",
       "      <td>27</td>\n",
       "      <td>16</td>\n",
       "      <td>1</td>\n",
       "      <td>Doctors should not overreact to the opioid cri...</td>\n",
       "    </tr>\n",
       "    <tr>\n",
       "      <th>893</th>\n",
       "      <td>1518498500733</td>\n",
       "      <td>Tue Feb 13 12:08:20 WIB 2018</td>\n",
       "      <td>1751</td>\n",
       "      <td>33</td>\n",
       "      <td>18</td>\n",
       "      <td>1</td>\n",
       "      <td>More free meeting space for nonprofits.</td>\n",
       "    </tr>\n",
       "  </tbody>\n",
       "</table>\n",
       "</div>"
      ],
      "text/plain": [
       "                timestamp                      datetime  author-id  agrees  \\\n",
       "comment-id                                                                   \n",
       "895         1518501496471  Tue Feb 13 12:58:16 WIB 2018       1756      48   \n",
       "894         1518499107516  Tue Feb 13 12:18:27 WIB 2018       1480      27   \n",
       "893         1518498500733  Tue Feb 13 12:08:20 WIB 2018       1751      33   \n",
       "\n",
       "            disagrees  moderated  \\\n",
       "comment-id                         \n",
       "895                 8          1   \n",
       "894                16          1   \n",
       "893                18          1   \n",
       "\n",
       "                                                 comment-body  \n",
       "comment-id                                                     \n",
       "895         Smallhouse Rd (at Campbell Ln) heading into to...  \n",
       "894         Doctors should not overreact to the opioid cri...  \n",
       "893                   More free meeting space for nonprofits.  "
      ]
     },
     "execution_count": 3,
     "metadata": {},
     "output_type": "execute_result"
    }
   ],
   "source": [
    "# Import participants' comments\n",
    "df_comments = pd.read_csv('Data/american-assembly.bowling-green/comments.csv',index_col='comment-id')\n",
    "df_comments.index = df_comments.index.astype(str)\n",
    "df_comments.head(3)"
   ]
  },
  {
   "cell_type": "code",
   "execution_count": 4,
   "metadata": {
    "scrolled": true
   },
   "outputs": [],
   "source": [
    "# Set Metadata fields and variable fields\n",
    "metadata_fields = ['group-id', 'n-comments', 'n-votes', 'n-agree', 'n-disagree']\n",
    "val_fields = [c for c in df.columns.values if c not in metadata_fields]\n",
    "\n",
    "# remove statements (columns) which were moderated out\n",
    "# df_comments[\"moderated\"] = 0   --->   comment should be removed\n",
    "statements_all_in = sorted(list(df_comments.loc[df_comments[\"moderated\"] > 0].index.array), key = int)\n",
    "\n",
    "# Remove participants with less than N (threshold) votes.\n",
    "df = select_rows(df=df, val_fields=val_fields, threshold=60)\n",
    "\n",
    "# Preprocess\n",
    "metadata = df[metadata_fields]\n",
    "vals = df[val_fields]\n",
    "# If the participant didn't see the statement, it's a null value, here we fill in the nulls with zeros\n",
    "vals = vals.fillna(0)\n",
    "vals = vals.sort_values(\"participant\")"
   ]
  },
  {
   "attachments": {},
   "cell_type": "markdown",
   "metadata": {},
   "source": [
    "## Overall statistics"
   ]
  },
  {
   "cell_type": "code",
   "execution_count": 5,
   "metadata": {},
   "outputs": [
    {
     "name": "stdout",
     "output_type": "stream",
     "text": [
      "Dimensions of matrix: (1006, 901)\n",
      "Dimensions of matrix: (1006, 896)\n",
      "Total number of possible votes: 901376\n",
      "Total number of agrees: 100041\n",
      "Total number of disagrees: 35177\n",
      "Total without vote: 766158\n",
      "Percent sparse:  0.8499871307867083 %\n"
     ]
    }
   ],
   "source": [
    "melted = vals.melt();\n",
    "all_votes = melted.count();\n",
    "by_type = melted[\"value\"].value_counts();\n",
    "total_possible_votes = all_votes[\"value\"];\n",
    "total_agrees = by_type[1.0];\n",
    "total_disagrees = by_type[-1.0];\n",
    "total_without_vote = by_type[0.0];\n",
    "\n",
    "print(\"Dimensions of matrix:\", df.shape)\n",
    "print(\"Dimensions of matrix:\", vals.shape)\n",
    "print(\"Total number of possible votes:\", total_possible_votes)\n",
    "print(\"Total number of agrees:\", total_agrees)\n",
    "print(\"Total number of disagrees:\", total_disagrees)\n",
    "print(\"Total without vote:\", total_without_vote)\n",
    "print(\"Percent sparse: \", total_without_vote / total_possible_votes,\"%\")\n",
    "\n",
    "## Make sure to check how many people and votes, relative to the total matrix, you are losing given min vote threshold"
   ]
  },
  {
   "attachments": {},
   "cell_type": "markdown",
   "metadata": {},
   "source": [
    "## Comment & participant selection"
   ]
  },
  {
   "cell_type": "code",
   "execution_count": 6,
   "metadata": {},
   "outputs": [],
   "source": [
    "vals_all_in = vals[statements_all_in]"
   ]
  },
  {
   "cell_type": "markdown",
   "metadata": {},
   "source": [
    "# Opinion groups\n",
    "\n",
    "To form opinion groups, we take the PCA coordinates and perform K-means clustering with K=100. \n",
    "These fine-graine cluster serve as the basis for a more coarse-grained clustering, also using K-means. \n",
    "<font color='red'>\n",
    "*In fact, we take the 100 centers (obtained from the first K-means clustering), and run additional K-means clustering for K ranging between 2 and 5.*\n",
    "</font>\n",
    "The K for which the silhoutte coefficient (a measure of withing-cluster similarity vs. between-cluster dissimilarity) is optimal is chosen for the opinion groups."
   ]
  },
  {
   "cell_type": "code",
   "execution_count": 7,
   "metadata": {},
   "outputs": [
    {
     "name": "stdout",
     "output_type": "stream",
     "text": [
      "Explained variance: [0.12267305 0.06782146]\n",
      "Plotting PCA embeddings with K-means, K=50\n",
      "Optimal clusters for K = 2\n",
      "Plotting PCA embeddings with K-means, K=2\n"
     ]
    },
    {
     "data": {
      "image/png": "[encoded data removed]",
      "text/plain": [
       "<Figure size 504x360 with 1 Axes>"
      ]
     },
     "metadata": {},
     "output_type": "display_data"
    },
    {
     "data": {
      "image/png": "[encoded data removed]",
      "text/plain": [
       "<Figure size 504x360 with 1 Axes>"
      ]
     },
     "metadata": {},
     "output_type": "display_data"
    }
   ],
   "source": [
    "# Methodology: \n",
    "# 1. Apply PCA on opinion matrix\n",
    "# 2. Partition participants in 100 clusters and get 'cluster_centers'\n",
    "# 3. Partition 'cluster_centers' in K clusters (optimal based on silhoutte score)\n",
    "# 4. Based on clustered 'cluster_centers' assign each participant in the cluster group ('clusters_star')\n",
    "    \n",
    "\n",
    "\n",
    "# Step 1 - get PCA clusters \n",
    "embedding, explained_variance = polis_pca(vals_all_in, 2)  \n",
    "print(\"Explained variance:\", explained_variance)\n",
    "\n",
    "# Step 2 - K-means with K=100\n",
    "clusters_100, centers = polis_kmeans_(embedding, n_clusters=50)\n",
    "plot_embedding_with_clusters(embedding, clusters_100)\n",
    "\n",
    "# Step 3 - find optimal K\n",
    "from sklearn.metrics import silhouette_score \n",
    "silhoutte_star = -np.inf\n",
    "for K in range(2,6):\n",
    "    clusters_K, _ = polis_kmeans_(centers,n_clusters=K)\n",
    "    silhouette_K = silhouette_score(centers, clusters_K)\n",
    "    if silhouette_K >= silhoutte_star:\n",
    "        K_star = K\n",
    "        silhoutte_star = silhouette_K\n",
    "        clusters_K_star = clusters_K\n",
    "print('Optimal clusters for K =',str(K_star))\n",
    "plot_embedding_with_clusters(centers, clusters_K_star)\n",
    " \n",
    "# Step 4 - assign each voter to \"optimal\" cluster\n",
    "clusters_star = np.zeros(len(clusters_100))\n",
    "for k in range(50):#\n",
    "    #find all indices with clusters k and assign them new star label\n",
    "    clusters_star[np.where(clusters_100==k)]  = clusters_K_star[k]\n",
    "\n"
   ]
  },
  {
   "cell_type": "markdown",
   "metadata": {},
   "source": [
    "# Comment Statistics\n",
    "\n",
    "We analyze comments for how strongly they represent each opinion group.\n",
    "For that, the representative metric R_v(g,c) is calculated for all groups g, comments c, and possible votes v.\n",
    "This metric estimates how much more likely participants in group g are vote v on said comment c than those outside group g.\n",
    "\n",
    "*Definition of R_v(g,c):*\n",
    "Let N_v(g,c) be the number of participants in group g who cast vote v on comment c, and let N(g,c)   be the total number of votes for comment c within group g (i.e. <font color='red'> N_{+1}(g,c)+  N_{-1}(g,c) <font> )\n",
    "\n",
    "Defifne P_v(g,c)=(1+N_v(g,v))/(2+N(g,c)) which estimates the probability that a given person in group g votes v on comment c. Then\n",
    "\n",
    "R_v(g,c) = P_v(g,c)/ P_v(g_not,c)\n",
    "\n",
    "where g_not denotes the complement of g, thus all participants not in g."
   ]
  },
  {
   "cell_type": "code",
   "execution_count": 8,
   "metadata": {},
   "outputs": [],
   "source": [
    "# Step 1: Calculate N_v(g,c), N(g,c), and P_v(g,c)\n",
    "# - 𝑁𝑣(𝑔,𝑐) be the number of participants in group g who cast vote v on comment c\n",
    "# - 𝑁(𝑔,𝑐) be the total number of votes on comment c within group g\n",
    "# - 𝑃𝑣(𝑔,𝑐) is an estimate of the probability that a given person in group g votes v on said comment\n",
    "\n",
    "N_groups, N_comments = K_star, len(statements_all_in)\n",
    "N_v_g_c = np.zeros([3,N_groups,N_comments]) #create N matrix \n",
    "P_v_g_c = np.zeros([3,N_groups,N_comments])\n",
    "N_g_c = np.zeros([N_groups,N_comments])\n",
    "v_values = [-1,0,1]\n",
    "\n",
    "for g in range(N_groups): \n",
    "    idx_g = np.where(clusters_star == g)[0] #get indices of cluster g; caution_ idx != participant id\n",
    "    for c in range(N_comments):\n",
    "        comment = statements_all_in[c] #comment id\n",
    "        df_c = vals_all_in[str(comment)].iloc[idx_g] #data frame: [participants of group g, comment c], \n",
    "        for v in range(3):\n",
    "            v_value = v_values[v]\n",
    "            N_v_g_c[v,g,c] = (df_c == v_value).sum() #counts all v_value votes in data frame df_c\n",
    "        N_g_c[g,c] = N_v_g_c[0,g,c] + N_v_g_c[2,g,c] #total votes corresponds to votes with +1 or -1  \n",
    "        \n",
    "        for v in range(3):\n",
    "            P_v_g_c[v,g,c] = (1 + N_v_g_c[v,g,c]) / (2 + N_g_c[g,c])\n",
    "        \n",
    "# Step2: calculate R_v(g,c)\n",
    "# 𝑅𝑣(𝑔,𝑐) resentativeness of comment c in group g and vote v estimates how much more likely participants \n",
    "# in group g are to vote v on said comment than those outside group g.            \n",
    "R_v_g_c = np.zeros([3, N_groups, N_comments])\n",
    "for g in range(N_groups): \n",
    "    for c in range(N_comments):\n",
    "        for v in range(3):\n",
    "           R_v_g_c[v,g,c] = P_v_g_c[v,g,c] / np.delete(P_v_g_c[v,:,c],g,0).sum()  # np.delete neglects all entries with group g                                           \n",
    "                                                   \n"
   ]
  },
  {
   "attachments": {},
   "cell_type": "markdown",
   "metadata": {},
   "source": [
    "## Comment Selection criterion\n",
    "\n",
    "Given R_v(g,c), how to decide weather comment c is representative for group g?\n",
    "\n",
    "Remember: R_v(g,c)=2 means that comment c is 2 times more likely to be voted v in group g compared to all the other groups. \n",
    "However, this does not tell us how significant this difference is (a very small likelihood multiplied by 2 is still a very small likelihood).\n",
    "\n",
    "<font color='red'> \n",
    "As a measure of significance, we calculate the Fisher exact test. This quantity can be regarded as a measure of correlation between two random variables. In fact, it tests how significantly the obtained sample (in this case votes v of comment c in group g) is different from the 0 hypothesis (in this case, that votes v are drawn from a hypergeometric distribution with parameters given by including all groups on comment c). \n",
    "<font>\n",
    "\n",
    "We weight this significance measure with R_v(g,c)."
   ]
  },
  {
   "cell_type": "code",
   "execution_count": 9,
   "metadata": {},
   "outputs": [],
   "source": [
    "import scipy.stats as stats\n",
    "from scipy.stats import hypergeom\n",
    "\n",
    "v_values = [-1, 0, 1]\n",
    "p_values = np.zeros([N_groups, N_comments, 3])\n",
    "\n",
    "for g in range(N_groups): \n",
    "    idx_g = np.where(clusters_star == g)[0] # get indices of cluster g; caution_ idx != participant id\n",
    "    idx_g_not = np.where(clusters_star != g)[0] # get indices of rest\n",
    "    for c in range(N_comments):\n",
    "        comment = statements_all_in[c] # comment id\n",
    "        \n",
    "        for v in range(3):            \n",
    "            v_value = v_values[v]\n",
    "            N_v = (vals_all_in[str(comment)] == v_value).sum()    # total number of v votes in comment c\n",
    "            N_rest = (vals_all_in[str(comment)]).count() - N_v    # total number of votes =  number of participants\n",
    "            \n",
    "            df_c = vals_all_in[str(comment)].iloc[idx_g]  # get data frame of group g for comment c\n",
    "            N_v_in_g = (df_c == v_value).sum()\n",
    "            N_g = (df_c).count()   \n",
    "            \n",
    "            [M, n, N] = [N_rest+N_v, N_v, N_g]  # hypergeometric distribution parameters https://docs.scipy.org/doc/scipy/reference/generated/scipy.stats.hypergeom.html\n",
    "            x = range(N_v_in_g-1 ,N_g+1)\n",
    "            prb = hypergeom.pmf(x, M, n, N).sum() #calculates P(X >= N_v_in_g), i.e. p-value. \n",
    "            p_values[g,c,v] = prb * R_v_g_c[v,g,c]"
   ]
  },
  {
   "cell_type": "code",
   "execution_count": 10,
   "metadata": {},
   "outputs": [
    {
     "name": "stdout",
     "output_type": "stream",
     "text": [
      "-----------------------------------\n",
      "Top-5 significant comments for group  0 (negative)\n",
      "-----------------------------------\n",
      " -  City and County should convert existing street lighting to Dark Sky Complaint Lights. #Nomoreorangeglow\n",
      " -  where do we go for shelter in case of tornado alert in my part of town .cabell dr neighbehood\n",
      " -  Planning and zoning laws should change to encourage small businesses and farms.\n",
      " -  Museums would be beneficial to BG/Warren County residents, and also bring in tourists from surrounding counties.\n",
      " -  Emphasize that ALL immigrants should learn and speak ENGLLISH.\n",
      "\n",
      "-----------------------------------\n",
      "Top-5 significant comments for group  1 (negative)\n",
      "-----------------------------------\n",
      " -  Older apartment complexes deteriorate.  Creates blighted areas, crime increases.  Stricter Landlord/Tenant rules needed!\n",
      " -  Drivers Education classes should be required for new drivers before you can get a permit or license.\n",
      " -  Businesses and multi-family dwellings should be required to offer and use recycling services.\n",
      " -  Provide accessible transportation for seniors that have difficulty driving\n",
      " -  An indoor, heated olympic size pool is EXTREMELY needed for adult exercise. The one at Total Fitness is totally inadequate.\n",
      "\n"
     ]
    }
   ],
   "source": [
    "## Lets print the most significant (negative) comments for each group!\n",
    "for g in range(N_groups): \n",
    "    idx_ = np.argsort(p_values[g,:,0]) #take only the significant comments\n",
    "    print('-----------------------------------')\n",
    "    print('Top-5 significant comments for group ', g, '(negative)')\n",
    "    print('-----------------------------------')\n",
    "    for i in range(5):\n",
    "        print(' - ', df_comments['comment-body'][idx_[i]])\n",
    "    print()"
   ]
  },
  {
   "cell_type": "code",
   "execution_count": 11,
   "metadata": {},
   "outputs": [
    {
     "name": "stdout",
     "output_type": "stream",
     "text": [
      "-----------------------------------\n",
      "Top-5 significant comments for group  0 (positive)\n",
      "-----------------------------------\n",
      " -  Older apartment complexes deteriorate.  Creates blighted areas, crime increases.  Stricter Landlord/Tenant rules needed!\n",
      " -  Drivers Education classes should be required for new drivers before you can get a permit or license.\n",
      " -  Businesses and multi-family dwellings should be required to offer and use recycling services.\n",
      " -  Raise drivers license from 16 to 18 and IMPROVE DRIVERS ED CLASSES in High schools  Believe me they are pitiful.\n",
      " -  Provide accessible transportation for seniors that have difficulty driving\n",
      "\n",
      "-----------------------------------\n",
      "Top-5 significant comments for group  1 (positive)\n",
      "-----------------------------------\n",
      " -  where do we go for shelter in case of tornado alert in my part of town .cabell dr neighbehood\n",
      " -  City and County should convert existing street lighting to Dark Sky Complaint Lights. #Nomoreorangeglow\n",
      " -  Museums would be beneficial to BG/Warren County residents, and also bring in tourists from surrounding counties.\n",
      " -  Planning and zoning laws should change to encourage small businesses and farms.\n",
      " -  Smallhouse Rd (at Campbell Ln) heading into town needs to be widened to have room for three lanes (left turn, straight, right turn).\n",
      "\n"
     ]
    }
   ],
   "source": [
    "## Lets print the most significant (positive) comments for each group!\n",
    "for g in range(N_groups): \n",
    "    idx_ = np.argsort(p_values[g,:,2]) #take only the significant comments\n",
    "    print('-----------------------------------')\n",
    "    print('Top-5 significant comments for group ', g, '(positive)')\n",
    "    print('-----------------------------------')\n",
    "    for i in range(5):\n",
    "        print(' - ', df_comments['comment-body'][idx_[i]])\n",
    "    print()"
   ]
  }
 ],
 "metadata": {
  "kernelspec": {
   "display_name": "Python 3",
   "language": "python",
   "name": "python3"
  },
  "language_info": {
   "codemirror_mode": {
    "name": "ipython",
    "version": 3
   },
   "file_extension": ".py",
   "mimetype": "text/x-python",
   "name": "python",
   "nbconvert_exporter": "python",
   "pygments_lexer": "ipython3",
   "version": "3.7.10"
  },
  "vscode": {
   "interpreter": {
    "hash": "3408c1ac7e23b962066ab3f3326bf33ee7faf6774785b00c32de53a33f53a208"
   }
  }
 },
 "nbformat": 4,
 "nbformat_minor": 2
}
